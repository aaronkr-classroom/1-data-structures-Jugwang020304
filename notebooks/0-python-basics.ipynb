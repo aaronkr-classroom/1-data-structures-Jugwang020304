{
 "cells": [
  {
   "cell_type": "markdown",
   "metadata": {},
   "source": [
    "# 0. Hello, Python! (Basic Data Types)\n",
    "\n",
    "This is a Python refresher notebook. It covers the basic data types in Python."
   ]
  },
  {
   "cell_type": "code",
   "execution_count": 8,
   "metadata": {},
   "outputs": [
    {
     "name": "stdout",
     "output_type": "stream",
     "text": [
      "Integer: 3\n",
      "float: 10.3333333\n",
      "float: 10.3333333\n",
      "mixed arr first item: a\n"
     ]
    },
    {
     "ename": "TypeError",
     "evalue": "list.append() takes exactly one argument (4 given)",
     "output_type": "error",
     "traceback": [
      "\u001b[0;31m---------------------------------------------------------------------------\u001b[0m",
      "\u001b[0;31mTypeError\u001b[0m                                 Traceback (most recent call last)",
      "Cell \u001b[0;32mIn[8], line 35\u001b[0m\n\u001b[1;32m     32\u001b[0m \u001b[38;5;28mprint\u001b[39m(\u001b[38;5;124mf\u001b[39m\u001b[38;5;124m\"\u001b[39m\u001b[38;5;124mmixed arr first item: \u001b[39m\u001b[38;5;132;01m{\u001b[39;00mmixed_arr[\u001b[38;5;241m0\u001b[39m]\u001b[38;5;132;01m}\u001b[39;00m\u001b[38;5;124m\"\u001b[39m)\n\u001b[1;32m     34\u001b[0m \u001b[38;5;66;03m# Adding to a list\u001b[39;00m\n\u001b[0;32m---> 35\u001b[0m \u001b[43mmixed_arr\u001b[49m\u001b[38;5;241;43m.\u001b[39;49m\u001b[43mappend\u001b[49m\u001b[43m \u001b[49m\u001b[43m(\u001b[49m\u001b[38;5;241;43m10\u001b[39;49m\u001b[43m \u001b[49m\u001b[43m,\u001b[49m\u001b[43m \u001b[49m\u001b[38;5;241;43m5\u001b[39;49m\u001b[43m \u001b[49m\u001b[43m,\u001b[49m\u001b[43m \u001b[49m\u001b[38;5;241;43m2\u001b[39;49m\u001b[43m \u001b[49m\u001b[43m,\u001b[49m\u001b[43m \u001b[49m\u001b[38;5;241;43m1\u001b[39;49m\u001b[43m)\u001b[49m\n\u001b[1;32m     36\u001b[0m \u001b[38;5;28mprint\u001b[39m(mixed_arr)\n\u001b[1;32m     38\u001b[0m \u001b[38;5;66;03m# --- Objects (using classes) ---\u001b[39;00m\n",
      "\u001b[0;31mTypeError\u001b[0m: list.append() takes exactly one argument (4 given)"
     ]
    }
   ],
   "source": [
    "# --- Numeric Types ---\n",
    "# Integer\n",
    "num = 3\n",
    "print(f\"Integer: {num}\")\n",
    "\n",
    "# Float\n",
    "decimal = 10.3333333\n",
    "print(f\"float: {decimal}\")\n",
    "\n",
    "# Complex\n",
    "complex = 2 + 3j\n",
    "print(f\"float: {decimal}\")\n",
    "\n",
    "# --- String and Character ---\n",
    "# String\n",
    "name = \"Aaron\"\n",
    "\n",
    "# Character (In Python, a single character is just a string of length 1)\n",
    "char = 'a'\n",
    "\n",
    "# --- Boolean ---\n",
    "# Boolean values\n",
    "t = True #1\n",
    "f = False #0\n",
    "\n",
    "# --- Arrays (Lists) ---\n",
    "# List\n",
    "array = [1,2,3,4,5,6,7,8,9,0]\n",
    "mixed_arr = ['a' , 10 , \"school\" , False]\n",
    "\n",
    "# Accessing list elements\n",
    "print(f\"mixed arr first item: {mixed_arr[0]}\")\n",
    "\n",
    "# Adding to a list\n",
    "mixed_arr.append (10 , 5 , 2 , 1)\n",
    "print(mixed_arr)\n",
    "\n",
    "# --- Objects (using classes) ---\n",
    "class student:\n",
    "    def __init__(self, name, id):\n",
    "        self.name = name\n",
    "        self.id = id\n",
    "\n",
    "        def gree(self):\n",
    "            print(f\"Hello, I'm {self.name} and mi ID is {self.id}.\")\n",
    "\n",
    "# Create an object of the Person class\n",
    "s1 = student(\"Aaron\" , 202110147)\n",
    "s1. great()\n",
    "\n",
    "# --- Type Conversion ---\n",
    "# Convert integer to float\n",
    "\n",
    "\n",
    "# Convert float to integer (truncates the decimal part)\n",
    "\n",
    "\n",
    "# Convert boolean to integer\n",
    "\n",
    "\n",
    "# --- Type Checking ---\n"
   ]
  },
  {
   "cell_type": "code",
   "execution_count": 22,
   "metadata": {},
   "outputs": [],
   "source": [
    "class Food:\n",
    "    def __init__(self, name):\n",
    "        self.name = name\n",
    "\n",
    "    def __init__(self, name = 'apple' , color = 'red' , size = 0 , price = 0):\n",
    "        self.name = name\n",
    "        self.color = color\n",
    "        self.size = size\n",
    "        self.price = price\n",
    "        self.quantity = 1\n",
    "\n",
    "    def printInfo(self):\n",
    "        if self.name == '':\n",
    "            print(\"I am nothing.\")\n",
    "        else:\n",
    "            print(\"I am a\" , self.name)\n",
    "            print(f\"I am a {self.name}.\")"
   ]
  },
  {
   "cell_type": "code",
   "execution_count": 23,
   "metadata": {},
   "outputs": [],
   "source": [
    "f1 = Food()\n",
    "f2 = Food('banana')\n",
    "f3 = Food('orange' , 'orange')\n",
    "f4 = Food('grape' , size = 3)\n",
    "f5 = Food('pear' , 3)"
   ]
  },
  {
   "cell_type": "code",
   "execution_count": 24,
   "metadata": {},
   "outputs": [
    {
     "data": {
      "text/plain": [
       "0"
      ]
     },
     "execution_count": 24,
     "metadata": {},
     "output_type": "execute_result"
    }
   ],
   "source": [
    "f5.price"
   ]
  },
  {
   "cell_type": "markdown",
   "metadata": {},
   "source": [
    "# 1. Hello, World! (First Program)\n",
    "\n",
    "This is a simple introduction to Python syntax and the print() function."
   ]
  },
  {
   "cell_type": "code",
   "execution_count": null,
   "metadata": {},
   "outputs": [],
   "source": [
    "# Basic \"Hello, World!\" example\n"
   ]
  },
  {
   "cell_type": "markdown",
   "metadata": {},
   "source": [
    "# 2. Basic Math Operations\n",
    "\n",
    "Introduce variables and arithmetic operators."
   ]
  },
  {
   "cell_type": "code",
   "execution_count": null,
   "metadata": {},
   "outputs": [],
   "source": [
    "# Simple math operations\n",
    "\n",
    "\n",
    "# Addition\n",
    "\n",
    "# Subtraction\n",
    "\n",
    "# Multiplication\n",
    "\n",
    "# Division\n"
   ]
  },
  {
   "cell_type": "markdown",
   "metadata": {},
   "source": [
    "# 3. Getting User Input\n",
    "\n",
    "Demonstrates how to interact with the user via input()."
   ]
  },
  {
   "cell_type": "code",
   "execution_count": 26,
   "metadata": {},
   "outputs": [
    {
     "name": "stdout",
     "output_type": "stream",
     "text": [
      "Hello 주광!\n",
      "Next year, you will be 24!\n"
     ]
    }
   ],
   "source": [
    "# Getting user input and using it\n",
    "name = input(\"What's your name? >>> \")\n",
    "print(\"Hello \" + name + \"!\")\n",
    "\n",
    "# Working with numbers\n",
    "age = input(\"How old are you? >>> \") #string\n",
    "print(\"Next year, you will be \" + str(int(age)+1) + \"!\")"
   ]
  },
  {
   "cell_type": "markdown",
   "metadata": {},
   "source": [
    "# 4. If Statements (Conditionals)\n",
    "\n",
    "Introduce the concept of decision-making using if, else, and elif."
   ]
  },
  {
   "cell_type": "code",
   "execution_count": null,
   "metadata": {},
   "outputs": [],
   "source": [
    "# Basic if-else example\n"
   ]
  },
  {
   "cell_type": "markdown",
   "metadata": {},
   "source": [
    "# 5. For Loop (Iteration)\n",
    "\n",
    "A basic introduction to loops with a for loop that repeats a certain number of times."
   ]
  },
  {
   "cell_type": "code",
   "execution_count": 34,
   "metadata": {},
   "outputs": [
    {
     "name": "stdout",
     "output_type": "stream",
     "text": [
      "Loop iteration 5.0\n",
      "Loop iteration 6.0\n",
      "Loop iteration 7.0\n",
      "Loop iteration 8.0\n",
      "Loop iteration 9.0\n"
     ]
    }
   ],
   "source": [
    "# Basic for loop example\n",
    "for x in range(10 , 20 , 2): \n",
    "    print(\"Loop iteration\" , x/2)"
   ]
  },
  {
   "cell_type": "markdown",
   "metadata": {},
   "source": [
    "# 6. While Loop (Iteration with Condition)\n",
    "\n",
    "Demonstrates a loop that runs until a condition is met."
   ]
  },
  {
   "cell_type": "code",
   "execution_count": 35,
   "metadata": {},
   "outputs": [
    {
     "name": "stdout",
     "output_type": "stream",
     "text": [
      "count:  1\n",
      "count:  2\n",
      "count:  3\n",
      "count:  4\n",
      "count:  5\n",
      "count:  6\n",
      "count:  7\n",
      "count:  8\n",
      "count:  9\n",
      "count:  10\n",
      "count:  11\n",
      "count:  12\n"
     ]
    }
   ],
   "source": [
    "# Basic while loop example\n",
    "#for loops need:\n",
    "#1. start point\n",
    "#2. end point (condition)\n",
    "#3. step\n",
    "\n",
    "\n",
    "\n",
    "\n",
    "\n",
    "\n",
    "start = 1 #start point\n",
    "while start <= 12: # end point (condition)\n",
    "    print(\"count: \" , start)\n",
    "    start += 1 #step"
   ]
  },
  {
   "cell_type": "markdown",
   "metadata": {},
   "source": [
    "# 7. Basic Function Example\n",
    "\n",
    "Introducing how to write and call functions."
   ]
  },
  {
   "cell_type": "code",
   "execution_count": null,
   "metadata": {},
   "outputs": [],
   "source": [
    "# Function to greet the user\n"
   ]
  },
  {
   "cell_type": "markdown",
   "metadata": {},
   "source": [
    "# 8. Simple Temperature Converter\n",
    "\n",
    "Combines input, conditionals, and functions in a real-world example."
   ]
  },
  {
   "cell_type": "code",
   "execution_count": null,
   "metadata": {},
   "outputs": [],
   "source": [
    "# Function to convert Celsius to Fahrenheit\n",
    "\n",
    "\n",
    "# Get temperature from user\n"
   ]
  },
  {
   "cell_type": "markdown",
   "metadata": {},
   "source": [
    "# 9. Simple Guessing Game\n",
    "\n",
    "A fun exercise that involves loops, conditionals, and randomness."
   ]
  },
  {
   "cell_type": "code",
   "execution_count": null,
   "metadata": {},
   "outputs": [],
   "source": [
    "\n",
    "# Generate a random number between 1 and 10\n",
    "\n",
    "\n",
    "# Keep asking the user until they guess correctly\n"
   ]
  },
  {
   "cell_type": "markdown",
   "metadata": {},
   "source": [
    "# 10. FizzBuzz (Classic Example)\n",
    "\n",
    "A popular coding challenge that helps beginners practice conditionals and loops.\n",
    "\n",
    "**Problem Statement:**\n",
    "\n",
    "Print numbers from 1 to n, where n is a positive integer. For each number:\n",
    "\n",
    "- Print \"Fizz\" if the number is divisible by 3.\n",
    "- Print \"Buzz\" if the number is divisible by 5.\n",
    "- Print \"FizzBuzz\" if the number is divisible by both 3 and 5.\n",
    "- Print the number itself if it is not divisible by either 3 or 5."
   ]
  },
  {
   "cell_type": "code",
   "execution_count": null,
   "metadata": {},
   "outputs": [],
   "source": [
    "# FizzBuzz example\n"
   ]
  },
  {
   "cell_type": "markdown",
   "metadata": {},
   "source": [
    "# Bonus: Recursive Fibonacci Function\n",
    "\n",
    "A more advanced example that demonstrates recursion."
   ]
  },
  {
   "cell_type": "code",
   "execution_count": null,
   "metadata": {},
   "outputs": [],
   "source": [
    "def fibonacci(n):\n",
    "    # Base cases\n",
    "\n",
    "        # Recursive case: F(n) = F(n-1) + F(n-2)\n",
    "        \n",
    "\n",
    "# Example usage"
   ]
  },
  {
   "cell_type": "code",
   "execution_count": null,
   "metadata": {},
   "outputs": [],
   "source": []
  }
 ],
 "metadata": {
  "kernelspec": {
   "display_name": "Python 3",
   "language": "python",
   "name": "python3"
  },
  "language_info": {
   "codemirror_mode": {
    "name": "ipython",
    "version": 3
   },
   "file_extension": ".py",
   "mimetype": "text/x-python",
   "name": "python",
   "nbconvert_exporter": "python",
   "pygments_lexer": "ipython3",
   "version": "3.12.1"
  }
 },
 "nbformat": 4,
 "nbformat_minor": 2
}
